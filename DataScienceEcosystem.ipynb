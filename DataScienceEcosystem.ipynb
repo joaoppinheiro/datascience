{
 "cells": [
  {
   "cell_type": "markdown",
   "id": "f480d516-7bab-41c1-a127-722abfe6850a",
   "metadata": {},
   "source": [
    "# Data Science Tools and Ecosystem"
   ]
  },
  {
   "cell_type": "markdown",
   "id": "34b69941-eddb-40b3-8677-8d2e2bd1135e",
   "metadata": {},
   "source": [
    "In this notebook, Data Science Tools and Ecosystem are summarized."
   ]
  },
  {
   "cell_type": "markdown",
   "id": "fae0f447-f441-49a2-9d5a-0fabb30472e5",
   "metadata": {},
   "source": [
    "__Objectives:__"
   ]
  },
  {
   "cell_type": "markdown",
   "id": "8396d005-f97c-45a7-93a4-79f56a101884",
   "metadata": {},
   "source": [
    "+ List popular languages for Data Science\n",
    "+ List common librarues used by Data Scientists\n",
    "+ Present a few arithmetics expressions in Python"
   ]
  },
  {
   "cell_type": "markdown",
   "id": "96c89afd-7add-4a43-8159-b72feb6a3ea3",
   "metadata": {},
   "source": [
    "Some of the popular languages that Data Scientists use are:"
   ]
  },
  {
   "cell_type": "markdown",
   "id": "664d5183-0104-4129-86db-a9ded05e5018",
   "metadata": {},
   "source": [
    "1. Python\n",
    "2. R.\n",
    "3. Julia\n",
    "4. Scala\n",
    "5. SQL"
   ]
  },
  {
   "cell_type": "markdown",
   "id": "3562d84c-0881-454e-8d4b-1e71a7690f02",
   "metadata": {},
   "source": [
    "Some of the commonly used libraries used by Data Scientists include:"
   ]
  },
  {
   "cell_type": "markdown",
   "id": "3b937d82-a60a-402a-af2c-c88b84ea8f5a",
   "metadata": {},
   "source": [
    "1. Matplotlib\n",
    "2. Pandas\n",
    "3. Seaborn\n",
    "4. PyTorch\n",
    "5. NumPy"
   ]
  },
  {
   "cell_type": "markdown",
   "id": "a9d77b50-c33e-4b26-a86a-0d992ea3e370",
   "metadata": {},
   "source": [
    "| Data Science Tools |\n",
    "| ------------------ |\n",
    "| Jupyter |\n",
    "| Apache Zeppelin |\n",
    "| R Studio |"
   ]
  },
  {
   "cell_type": "markdown",
   "id": "ad31380c-7950-4d1a-a010-9853a675a1bc",
   "metadata": {},
   "source": [
    "### Below are a few examples of evaluating arithmetic expressions in Python"
   ]
  },
  {
   "cell_type": "code",
   "execution_count": 7,
   "id": "85a772eb-06fd-47da-8626-d939b933bde2",
   "metadata": {},
   "outputs": [
    {
     "name": "stdout",
     "output_type": "stream",
     "text": [
      "17\n"
     ]
    }
   ],
   "source": [
    "# This a simple arithmetic expression to mutiply then add integers\n",
    "\n",
    "a = 3\n",
    "b = 4\n",
    "c = 5\n",
    "\n",
    "result = ( a * b ) + c\n",
    "\n",
    "print(result)"
   ]
  },
  {
   "cell_type": "code",
   "execution_count": 10,
   "id": "67edb5d1-0e45-4819-acc7-b54c9e6ba9f6",
   "metadata": {},
   "outputs": [
    {
     "name": "stdout",
     "output_type": "stream",
     "text": [
      "3.3333333333333335\n"
     ]
    }
   ],
   "source": [
    "# This will convert 200 minutes to hours by diving by 60\n",
    "\n",
    "def convert_to_hours(minutes):\n",
    "    hours = minutes / 60\n",
    "    return hours\n",
    "\n",
    "print(convert_to_hours(200))"
   ]
  },
  {
   "cell_type": "markdown",
   "id": "0d23a937-2489-4240-a35f-42ec265e9382",
   "metadata": {},
   "source": [
    "## Author\n",
    "João Pedro Pinheiro"
   ]
  },
  {
   "cell_type": "code",
   "execution_count": null,
   "id": "4da1e06b-7a17-49a8-a9a3-97a87066539d",
   "metadata": {},
   "outputs": [],
   "source": []
  }
 ],
 "metadata": {
  "kernelspec": {
   "display_name": "Python 3 (ipykernel)",
   "language": "python",
   "name": "python3"
  },
  "language_info": {
   "codemirror_mode": {
    "name": "ipython",
    "version": 3
   },
   "file_extension": ".py",
   "mimetype": "text/x-python",
   "name": "python",
   "nbconvert_exporter": "python",
   "pygments_lexer": "ipython3",
   "version": "3.10.9"
  }
 },
 "nbformat": 4,
 "nbformat_minor": 5
}
